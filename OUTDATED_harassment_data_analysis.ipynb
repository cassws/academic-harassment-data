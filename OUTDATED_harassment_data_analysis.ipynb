{
 "cells": [
  {
   "cell_type": "code",
   "execution_count": 1,
   "metadata": {
    "collapsed": true
   },
   "outputs": [],
   "source": [
    "# Investigating key research questions in the Sexual Harassment in Academia: Results of a Crowdsourced Survey dataset\n",
    "# Using NLP (topic modeling, classification, etc.) techniques with Spark, MLLIB, pandas, NLTK, and Python. \n",
    "# Final project for SI 618."
   ]
  },
  {
   "cell_type": "code",
   "execution_count": 2,
   "metadata": {
    "collapsed": true
   },
   "outputs": [],
   "source": [
    "from pyspark.ml.feature import HashingTF, IDF, Tokenizer, CountVectorizer \n",
    "from pyspark.ml.feature import StopWordsRemover\n",
    "from pyspark.ml.clustering import LDA\n",
    "from pyspark.ml.pipeline import Pipeline\n",
    "import numpy as np\n",
    "import nltk"
   ]
  },
  {
   "cell_type": "code",
   "execution_count": 5,
   "metadata": {
    "collapsed": true
   },
   "outputs": [],
   "source": [
    "from nltk.tokenize import RegexpTokenizer\n",
    "from nltk.corpus import stopwords as nltkstopwords"
   ]
  },
  {
   "cell_type": "code",
   "execution_count": 19,
   "metadata": {
    "collapsed": true
   },
   "outputs": [],
   "source": [
    "df = spark.read.load(\"harassment_mainrawdata_4_4_18.csv\",\n",
    "                     format=\"csv\", sep=\",\", inferSchema=\"true\", header=\"true\")"
   ]
  },
  {
   "cell_type": "code",
   "execution_count": 4,
   "metadata": {},
   "outputs": [
    {
     "data": {
      "text/plain": [
       "Row(time,event,target,perpetrator,itype raw,institution,discipline,oldq,response,punishment,career,mental,life,comments,perpgender,oldlabel,someresponse,gendersquash,oldcleandiscipline,coarsediscipline,cleantarget,coarsetarget,itype,oldinstitution,label,cleaninstitution,cleandiscipline='3/17/2018 12')"
      ]
     },
     "execution_count": 4,
     "metadata": {},
     "output_type": "execute_result"
    }
   ],
   "source": [
    "df.head()"
   ]
  },
  {
   "cell_type": "code",
   "execution_count": 6,
   "metadata": {
    "collapsed": true
   },
   "outputs": [],
   "source": [
    "from pyspark.sql.types import ArrayType, StringType\n",
    "\n",
    "def indices_to_terms(vocabulary):\n",
    "    def indices_to_terms(xs):\n",
    "        return [vocabulary[int(x)] for x in xs]\n",
    "    return udf(indices_to_terms, ArrayType(StringType()))"
   ]
  },
  {
   "cell_type": "code",
   "execution_count": 20,
   "metadata": {},
   "outputs": [
    {
     "name": "stdout",
     "output_type": "stream",
     "text": [
      "['time', 'event', 'target', 'perpetrator', 'itype raw', 'institution', 'discipline', 'oldq', 'response', 'punishment', 'career', 'mental', 'life', 'comments', 'perpgender', 'oldlabel', 'someresponse', 'gendersquash', 'oldcleandiscipline', 'coarsediscipline', 'cleantarget', 'coarsetarget', 'itype', 'oldinstitution', 'label', 'cleaninstitution', 'cleandiscipline']\n"
     ]
    }
   ],
   "source": [
    "print(df.columns)"
   ]
  },
  {
   "cell_type": "code",
   "execution_count": 25,
   "metadata": {},
   "outputs": [],
   "source": [
    "df = df.na.drop()"
   ]
  },
  {
   "cell_type": "code",
   "execution_count": 26,
   "metadata": {},
   "outputs": [
    {
     "name": "stdout",
     "output_type": "stream",
     "text": [
      "k =  7\n",
      "Vocab length is 19\n",
      "Log perplexity  (lower is better):  4.642170904376941\n",
      "Log likelihood (higher is better):  -324.95196300305986\n"
     ]
    },
    {
     "ename": "NameError",
     "evalue": "name 'udf' is not defined",
     "output_type": "error",
     "traceback": [
      "\u001b[0;31m---------------------------------------------------------------------------\u001b[0m",
      "\u001b[0;31mNameError\u001b[0m                                 Traceback (most recent call last)",
      "\u001b[0;32m<ipython-input-26-70715c7c9854>\u001b[0m in \u001b[0;36m<module>\u001b[0;34m()\u001b[0m\n\u001b[1;32m     37\u001b[0m   \u001b[0mtopics\u001b[0m\u001b[0;34m.\u001b[0m\u001b[0mselect\u001b[0m\u001b[0;34m(\u001b[0m\u001b[0;34m\"topicWords\"\u001b[0m\u001b[0;34m)\u001b[0m\u001b[0;34m.\u001b[0m\u001b[0mshow\u001b[0m\u001b[0;34m(\u001b[0m\u001b[0;36m10\u001b[0m\u001b[0;34m,\u001b[0m\u001b[0mtruncate\u001b[0m\u001b[0;34m=\u001b[0m\u001b[0;32mFalse\u001b[0m\u001b[0;34m)\u001b[0m\u001b[0;34m\u001b[0m\u001b[0m\n\u001b[1;32m     38\u001b[0m \u001b[0;34m\u001b[0m\u001b[0m\n\u001b[0;32m---> 39\u001b[0;31m \u001b[0mfullPipeline\u001b[0m\u001b[0;34m(\u001b[0m\u001b[0;36m7\u001b[0m\u001b[0;34m)\u001b[0m\u001b[0;34m\u001b[0m\u001b[0m\n\u001b[0m",
      "\u001b[0;32m<ipython-input-26-70715c7c9854>\u001b[0m in \u001b[0;36mfullPipeline\u001b[0;34m(kTerm)\u001b[0m\n\u001b[1;32m     34\u001b[0m \u001b[0;34m\u001b[0m\u001b[0m\n\u001b[1;32m     35\u001b[0m   topics = topics.withColumn(\n\u001b[0;32m---> 36\u001b[0;31m       \"topicWords\", indices_to_terms(countVectorModel.vocabulary)(\"termIndices\"))\n\u001b[0m\u001b[1;32m     37\u001b[0m   \u001b[0mtopics\u001b[0m\u001b[0;34m.\u001b[0m\u001b[0mselect\u001b[0m\u001b[0;34m(\u001b[0m\u001b[0;34m\"topicWords\"\u001b[0m\u001b[0;34m)\u001b[0m\u001b[0;34m.\u001b[0m\u001b[0mshow\u001b[0m\u001b[0;34m(\u001b[0m\u001b[0;36m10\u001b[0m\u001b[0;34m,\u001b[0m\u001b[0mtruncate\u001b[0m\u001b[0;34m=\u001b[0m\u001b[0;32mFalse\u001b[0m\u001b[0;34m)\u001b[0m\u001b[0;34m\u001b[0m\u001b[0m\n\u001b[1;32m     38\u001b[0m \u001b[0;34m\u001b[0m\u001b[0m\n",
      "\u001b[0;32m<ipython-input-6-ee8aceca4f01>\u001b[0m in \u001b[0;36mindices_to_terms\u001b[0;34m(vocabulary)\u001b[0m\n\u001b[1;32m      4\u001b[0m     \u001b[0;32mdef\u001b[0m \u001b[0mindices_to_terms\u001b[0m\u001b[0;34m(\u001b[0m\u001b[0mxs\u001b[0m\u001b[0;34m)\u001b[0m\u001b[0;34m:\u001b[0m\u001b[0;34m\u001b[0m\u001b[0m\n\u001b[1;32m      5\u001b[0m         \u001b[0;32mreturn\u001b[0m \u001b[0;34m[\u001b[0m\u001b[0mvocabulary\u001b[0m\u001b[0;34m[\u001b[0m\u001b[0mint\u001b[0m\u001b[0;34m(\u001b[0m\u001b[0mx\u001b[0m\u001b[0;34m)\u001b[0m\u001b[0;34m]\u001b[0m \u001b[0;32mfor\u001b[0m \u001b[0mx\u001b[0m \u001b[0;32min\u001b[0m \u001b[0mxs\u001b[0m\u001b[0;34m]\u001b[0m\u001b[0;34m\u001b[0m\u001b[0m\n\u001b[0;32m----> 6\u001b[0;31m     \u001b[0;32mreturn\u001b[0m \u001b[0mudf\u001b[0m\u001b[0;34m(\u001b[0m\u001b[0mindices_to_terms\u001b[0m\u001b[0;34m,\u001b[0m \u001b[0mArrayType\u001b[0m\u001b[0;34m(\u001b[0m\u001b[0mStringType\u001b[0m\u001b[0;34m(\u001b[0m\u001b[0;34m)\u001b[0m\u001b[0;34m)\u001b[0m\u001b[0;34m)\u001b[0m\u001b[0;34m\u001b[0m\u001b[0m\n\u001b[0m",
      "\u001b[0;31mNameError\u001b[0m: name 'udf' is not defined"
     ]
    }
   ],
   "source": [
    "def fullPipeline(kTerm):\n",
    "  k = kTerm\n",
    "\n",
    "  tokenizer = Tokenizer(inputCol='response', outputCol=\"words\")\n",
    "  \n",
    "    \n",
    "  stopWordsRemover = StopWordsRemover(inputCol=\"words\", outputCol=\"filtered\")\n",
    "  stopWordsRemover.loadDefaultStopWords(\"english\")\n",
    "\n",
    "  vectorizer = CountVectorizer(inputCol=\"filtered\", outputCol=\"features\", minDF=2) \n",
    "\n",
    "  print (\"k = \",k)\n",
    "  lda = LDA(k=6, maxIter=10)\n",
    "\n",
    "  pipeline = Pipeline(stages=[tokenizer, stopWordsRemover, vectorizer, lda])\n",
    "  pipelineModel = pipeline.fit(df)\n",
    "\n",
    "  countVectorModel = pipelineModel.stages[-2]\n",
    "  cmv = countVectorModel.vocabulary\n",
    "  print(\"Vocab length is\",len(cmv))\n",
    "\n",
    "  ldaModel = pipelineModel.stages[-1]\n",
    "\n",
    "  # Assess the model\n",
    "  df_lda = pipelineModel.transform(df)\n",
    "\n",
    "  lp = ldaModel.logPerplexity(df_lda)\n",
    "  print(\"Log perplexity  (lower is better): \",lp)\n",
    "  ll = ldaModel.logLikelihood(df_lda)\n",
    "  print(\"Log likelihood (higher is better): \",ll)\n",
    "  # Describe topics.\n",
    "\n",
    "  topics = ldaModel.describeTopics(8)\n",
    "\n",
    "  topics = topics.withColumn(\n",
    "      \"topicWords\", indices_to_terms(countVectorModel.vocabulary)(\"termIndices\"))\n",
    "  topics.select(\"topicWords\").show(10,truncate=False)\n",
    "\n",
    "fullPipeline(7)\n"
   ]
  },
  {
   "cell_type": "code",
   "execution_count": null,
   "metadata": {
    "collapsed": true
   },
   "outputs": [],
   "source": []
  }
 ],
 "metadata": {
  "kernelspec": {
   "display_name": "Python 3",
   "language": "python",
   "name": "python3"
  },
  "language_info": {
   "codemirror_mode": {
    "name": "ipython",
    "version": 3
   },
   "file_extension": ".py",
   "mimetype": "text/x-python",
   "name": "python",
   "nbconvert_exporter": "python",
   "pygments_lexer": "ipython3",
   "version": "3.6.3"
  }
 },
 "nbformat": 4,
 "nbformat_minor": 2
}
